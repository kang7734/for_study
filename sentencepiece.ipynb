{
 "cells": [
  {
   "cell_type": "code",
   "execution_count": 1,
   "metadata": {},
   "outputs": [],
   "source": [
    "import pandas as pd"
   ]
  },
  {
   "cell_type": "code",
   "execution_count": 5,
   "metadata": {},
   "outputs": [],
   "source": [
    "import sys\n",
    "import csv\n",
    "maxInt = sys.maxsize\n",
    "decrement = True\n",
    "\n",
    "while decrement:\n",
    "    # decrease the maxInt value by factor 10 \n",
    "    # as long as the OverflowError occurs.\n",
    "\n",
    "    decrement = False\n",
    "    try:\n",
    "        csv.field_size_limit(maxInt)\n",
    "    except OverflowError:\n",
    "        maxInt = int(maxInt/10)\n",
    "        decrement = True"
   ]
  },
  {
   "cell_type": "code",
   "execution_count": 7,
   "metadata": {},
   "outputs": [],
   "source": [
    "in_file = \"kowiki_20220403.csv\"\n",
    "out_file = \"kowiki.txt\"\n",
    "SEPARATOR = u\"\\u241D\"\n",
    "df = pd.read_csv(in_file, sep=SEPARATOR, engine=\"python\")\n",
    "with open(out_file, \"w\") as f:\n",
    "    for index, row in df.iterrows():\n",
    "        f.write(row[\"text\"])\n",
    "        f.write(\"\\n\\n\\n\\n\")"
   ]
  },
  {
   "cell_type": "code",
   "execution_count": 9,
   "metadata": {},
   "outputs": [],
   "source": [
    "import sentencepiece as spm\n",
    "\n",
    "corpus = \"kowiki.txt\"\n",
    "prefix = \"kowiki\"\n",
    "\n",
    "vocab_size = 8000\n",
    "\n",
    "spm.SentencePieceTrainer.train(\n",
    "    f\"--input={corpus} --model_prefix={prefix} --vocab_size={vocab_size+7}\"+\n",
    "    \" --model_type=bpe\"+\n",
    "    \" --max_sentence_length=999999\"+\n",
    "    \" --pad_id=0 --pad_piece=[PAD]\"+\n",
    "    \" --unk_id=1 --unk_piece=[UNK]\"+\n",
    "    \" --bos_id=2 --bos_piece=[BOS]\"+\n",
    "    \" --eos_id=3 --eos_piece=[EOS]\"+\n",
    "    \" --user_defined_symbols=[SEP],[CLS],[MASK]\"\n",
    ")"
   ]
  },
  {
   "cell_type": "code",
   "execution_count": 10,
   "metadata": {},
   "outputs": [
    {
     "name": "stdout",
     "output_type": "stream",
     "text": [
      "오늘따라 너무 힘들다.공부하기 너무 싫다.나는 왜 대학원생인가?뭔가 코딩을 하니까 재미는 있는데 말이지.. 이렇게 귀찮은 작업들이 많을 줄은 몰랐네.이번 주 해야 할 일은 논문 리뷰 5편과, 머신러닝 수업, 그리고 학부 수업 과제가 있습니다.\n",
      "['▁오늘', '따', '라', '▁너무', '▁힘', '들', '다', '.', '공', '부', '하기', '▁너무', '▁', '싫', '다', '.', '나는', '▁왜', '▁대학', '원', '생', '인', '가', '?', '뭔', '가', '▁코', '딩', '을', '▁하', '니', '까', '▁재', '미', '는', '▁있는데', '▁말', '이지', '..', '▁이렇게', '▁귀', '찮', '은', '▁작업', '들이', '▁많', '을', '▁줄', '은', '▁몰', '랐', '네', '.', '이', '번', '▁주', '▁해', '야', '▁할', '▁일', '은', '▁논', '문', '▁리', '뷰', '▁5', '편', '과', ',', '▁머', '신', '러', '닝', '▁수', '업', ',', '▁그리고', '▁학', '부', '▁수', '업', '▁과', '제가', '▁있', '습니다', '.']\n",
      "[1602, 3835, 3599, 2806, 957, 3614, 3563, 3564, 3635, 3603, 167, 2806, 3561, 4829, 3563, 3564, 983, 1950, 680, 3632, 3712, 3593, 3573, 4236, 5809, 3573, 243, 4290, 3572, 27, 3695, 3772, 173, 3653, 3567, 1174, 154, 836, 1972, 2519, 663, 5201, 3578, 1469, 152, 205, 3572, 704, 3578, 1080, 4234, 3831, 3564, 3562, 3784, 37, 86, 3741, 440, 33, 3578, 577, 3666, 153, 4353, 94, 3844, 3609, 3569, 790, 3662, 3689, 4279, 18, 3769, 3569, 378, 308, 3603, 18, 3769, 245, 1270, 11, 2318, 3564]\n"
     ]
    }
   ],
   "source": [
    "import sentencepiece as spm\n",
    "\n",
    "vocab_file = \"kowiki.model\"\n",
    "vocab = spm.SentencePieceProcessor()\n",
    "vocab.load(vocab_file)\n",
    "\n",
    "lines = [\n",
    "    \"오늘따라 너무 힘들다.\"\n",
    "    \"공부하기 너무 싫다.\"\n",
    "    \"나는 왜 대학원생인가?\"\n",
    "    \"뭔가 코딩을 하니까 재미는 있는데 말이지.. 이렇게 귀찮은 작업들이 많을 줄은 몰랐네.\"\n",
    "    \"이번 주 해야 할 일은 논문 리뷰 5편과, 머신러닝 수업, 그리고 학부 수업 과제가 있습니다.\"\n",
    "]\n",
    "\n",
    "for line in lines:\n",
    "    pieces = vocab.EncodeAsPieces(line)\n",
    "    ids = vocab.EncodeAsIds(line)\n",
    "    print(line)\n",
    "    print(pieces)\n",
    "    print(ids)"
   ]
  },
  {
   "cell_type": "code",
   "execution_count": null,
   "metadata": {},
   "outputs": [],
   "source": []
  }
 ],
 "metadata": {
  "interpreter": {
   "hash": "5d1aa92d2b669f5ff4ea8794858f459d16fcce2139883dca779c71d99d2e4135"
  },
  "kernelspec": {
   "display_name": "Python 3.8.8 ('base': conda)",
   "language": "python",
   "name": "python3"
  },
  "language_info": {
   "codemirror_mode": {
    "name": "ipython",
    "version": 3
   },
   "file_extension": ".py",
   "mimetype": "text/x-python",
   "name": "python",
   "nbconvert_exporter": "python",
   "pygments_lexer": "ipython3",
   "version": "3.8.8"
  },
  "orig_nbformat": 4
 },
 "nbformat": 4,
 "nbformat_minor": 2
}
