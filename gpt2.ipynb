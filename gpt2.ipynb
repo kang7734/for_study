{
 "cells": [
  {
   "cell_type": "code",
   "execution_count": 81,
   "metadata": {},
   "outputs": [],
   "source": [
    "import pandas as pd\n",
    "import numpy as np\n",
    "import torch\n",
    "import torch.nn as nn\n",
    "import torch.nn.functional as F\n",
    "from torch.utils.data import Dataset, DataLoader\n",
    "import sentencepiece as spm\n",
    "import matplotlib.pyplot as plt\n",
    "from tqdm import tqdm\n",
    "import os"
   ]
  },
  {
   "cell_type": "code",
   "execution_count": 82,
   "metadata": {},
   "outputs": [],
   "source": [
    "import json\n",
    "\n",
    "class Config(dict):\n",
    "    __getattr__ = dict.__getitem__\n",
    "    __setattr__ = dict.__setattr__\n",
    "\n",
    "    @classmethod\n",
    "    def load(cls, file):\n",
    "        with open(file, 'r') as f:\n",
    "            config = json.loads(f.read())\n",
    "            return Config(config)"
   ]
  },
  {
   "cell_type": "code",
   "execution_count": 83,
   "metadata": {},
   "outputs": [
    {
     "data": {
      "text/plain": [
       "True"
      ]
     },
     "execution_count": 83,
     "metadata": {},
     "output_type": "execute_result"
    }
   ],
   "source": [
    "vocab_file = \"kowiki.model\"\n",
    "vocab = spm.SentencePieceProcessor()\n",
    "vocab.load(vocab_file)"
   ]
  },
  {
   "cell_type": "code",
   "execution_count": 84,
   "metadata": {},
   "outputs": [
    {
     "name": "stdout",
     "output_type": "stream",
     "text": [
      "{'n_dec_vocab': 8007, 'n_dec_seq': 256, 'n_layer': 6, 'd_hidn': 256, 'i_pad': 0, 'd_ff': 1024, 'n_head': 4, 'd_head': 64, 'dropout': 0.1, 'layer_norm_epsilon': 1e-12}\n"
     ]
    }
   ],
   "source": [
    "config = Config({\n",
    "    \"n_dec_vocab\": len(vocab),\n",
    "    \"n_dec_seq\": 256,\n",
    "    \"n_layer\": 6,\n",
    "    \"d_hidn\": 256,\n",
    "    \"i_pad\": 0,\n",
    "    \"d_ff\": 1024,\n",
    "    \"n_head\": 4,\n",
    "    \"d_head\": 64,\n",
    "    \"dropout\": 0.1,\n",
    "    \"layer_norm_epsilon\": 1e-12\n",
    "})\n",
    "print(config)"
   ]
  },
  {
   "cell_type": "code",
   "execution_count": 85,
   "metadata": {},
   "outputs": [],
   "source": [
    "def get_sinusoid_encoding_table(n_seq, d_hidn):\n",
    "    def cal_angle(position, i_hidn):\n",
    "        return position / np.power(10000, 2*(i_hidn // 2) / d_hidn)\n",
    "    \n",
    "    def get_posi_angle_vec(positon):\n",
    "        return [cal_angle(positon, i_hidn) for i_hidn in range(d_hidn)]\n",
    "\n",
    "    sinusoid_table = np.array([get_posi_angle_vec(i_seq) for i_seq in range(n_seq)])\n",
    "    sinusoid_table[:, 0::2] = np.sin(sinusoid_table[:, 0::2])\n",
    "    sinusoid_table[:, 1::2] = np.cos(sinusoid_table[:, 1::2])\n",
    "    return sinusoid_table"
   ]
  },
  {
   "cell_type": "code",
   "execution_count": 86,
   "metadata": {},
   "outputs": [],
   "source": [
    "class ScaledDotProductAttention(nn.Module):\n",
    "    def __init__(self, config):\n",
    "        super().__init__()\n",
    "        self.config = config\n",
    "        self.scale = 1 / (config.d_head ** 0.5)\n",
    "        self.drop_out = nn.Dropout(config.dropout)\n",
    "    \n",
    "    def forward(self, Q, K, V, attn_mask):\n",
    "        scores = torch.matmul(Q, K.transpose(-1, -2)).mul_(self.scale)\n",
    "        scores.masked_fill_(attn_mask, -1e9)\n",
    "        attn_prob = nn.Softmax(dim=-1)(scores)\n",
    "        attn_prob = self.drop_out(attn_prob)\n",
    "        context = torch.matmul(attn_prob, V)\n",
    "        return context, attn_prob"
   ]
  },
  {
   "cell_type": "code",
   "execution_count": 87,
   "metadata": {},
   "outputs": [],
   "source": [
    "class MultiHeadAttention(nn.Module):\n",
    "    def __init__(self, config):\n",
    "        super().__init__()\n",
    "        self.config = config\n",
    "        self.dropout = nn.Dropout(config.dropout)\n",
    "\n",
    "        self.W_Q = nn.Linear(self.config.d_hidn, self.config.n_head*self.config.d_head)\n",
    "        self.W_K = nn.Linear(self.config.d_hidn, self.config.n_head*self.config.d_head)\n",
    "        self.W_V = nn.Linear(self.config.d_hidn, self.config.n_head*self.config.d_head)\n",
    "        self.scaled_dot_attn = ScaledDotProductAttention(config)\n",
    "        self.linear = nn.Linear(self.config.n_head*self.config.d_head, self.config.d_hidn)\n",
    "    \n",
    "    def forward(self, Q, K, V, attn_mask):\n",
    "        batch_size = Q.size(0)\n",
    "\n",
    "        q_s = self.W_Q(Q).view(batch_size, -1, self.config.n_head, self.config.d_head).transpose(1,2)\n",
    "        k_s = self.W_K(K).view(batch_size, -1, self.config.n_head, self.config.d_head).transpose(1,2)\n",
    "        v_s = self.W_V(V).view(batch_size, -1, self.config.n_head, self.config.d_head).transpose(1,2)\n",
    "        \n",
    "        attn_mask = attn_mask.unsqueeze(1).repeat(1,self.config.n_head,1,1)\n",
    "\n",
    "        context, attn_prob = self.scaled_dot_attn(q_s,k_s,v_s, attn_mask)\n",
    "\n",
    "        context = context.transpose(1,2).contiguous().view(batch_size, -1, self.config.n_head*self.config.d_head)\n",
    "        output = self.linear(context)\n",
    "        output = self.dropout(output)\n",
    "        return output, attn_prob\n",
    "    \n"
   ]
  },
  {
   "cell_type": "code",
   "execution_count": 88,
   "metadata": {},
   "outputs": [],
   "source": [
    "def get_attn_decoder_mask(seq):\n",
    "    subsequent_mask = torch.ones_like(seq).unsqueeze(-1).expand(seq.size(0),seq.size(1),seq.size(1))\n",
    "    subsequent_mask = subsequent_mask.triu(diagonal=1)\n",
    "    return subsequent_mask"
   ]
  },
  {
   "cell_type": "code",
   "execution_count": 89,
   "metadata": {},
   "outputs": [],
   "source": [
    "class PoswiseFeedForwardNet(nn.Module):\n",
    "    def __init__(self, config):\n",
    "        super().__init__()\n",
    "        self.config = config\n",
    "        self.conv1 = nn.Conv1d(in_channels=self.config.d_hidn, out_channels= self.config.d_ff, kernel_size=1)\n",
    "        self.conv2 = nn.Conv1d(in_channels=self.config.d_ff, out_channels= self.config.d_hidn, kernel_size=1)\n",
    "        self.active = F.gelu\n",
    "        self.dropout = nn.Dropout(config.dropout)\n",
    "\n",
    "    def forward(self, inputs):\n",
    "        output = self.conv1(inputs.transpose(1,2))\n",
    "        output = self.active(output)\n",
    "        output = self.conv2(output).transpose(1,2)\n",
    "        output = self.dropout(output)\n",
    "        return output"
   ]
  },
  {
   "cell_type": "code",
   "execution_count": 90,
   "metadata": {},
   "outputs": [],
   "source": [
    "def get_attn_pad_mask(seq_q, seq_k, i_pad):\n",
    "    batch_size, len_q = seq_q.size()\n",
    "    batch_size, len_k = seq_k.size()\n",
    "    pad_attn_mask = seq_k.data.eq(i_pad)\n",
    "    pad_attn_mask = pad_attn_mask.unsqueeze(1).expand(batch_size, len_q, len_k)\n",
    "    return pad_attn_mask"
   ]
  },
  {
   "cell_type": "code",
   "execution_count": 91,
   "metadata": {},
   "outputs": [],
   "source": [
    "class DecoderLayer(nn.Module):\n",
    "      def __init__(self, config):\n",
    "            super.__init__()\n",
    "            self.config = config\n",
    "\n",
    "            self.self_attn = MultiHeadAttention(self.config)\n",
    "            self.layer_norm1 = nn.LayerNorm(self.config.d_hidn, self.config.layer_norm_epsilon)\n",
    "            self.pos_ffn = PoswiseFeedForwardNet(self.config)\n",
    "            self.layer_norm2 = nn.LayerNorm(self.config.n_hidn, self.config.layer_norm_epsilon)\n",
    "\n",
    "      def forward(self, dec_inputs, dec_attn_mask):\n",
    "            dec_attn_outputs, dec_attn_prob = self.self_attn(dec_inputs, dec_inputs, dec_inputs, dec_attn_mask)\n",
    "            dec_attn_outputs = self.layer_norm1(dec_inputs, dec_attn_outputs)\n",
    "\n",
    "            ffn_outputs = self.pos_ffn(dec_attn_outputs)\n",
    "            ffn_outputs = self.layer_norm2(ffn_outputs)\n",
    "\n",
    "            return ffn_outputs, dec_attn_prob\n",
    "            "
   ]
  },
  {
   "cell_type": "code",
   "execution_count": 92,
   "metadata": {},
   "outputs": [],
   "source": [
    "class Decoder(nn.Module):\n",
    "      def __init__(self, config):\n",
    "            super.__init__()\n",
    "            self.config = config\n",
    "\n",
    "            self.dec_embs = nn.Embedding(self.config.n_dec_vocab, self.config.d_hidn)\n",
    "            sinusoid_table = torch.FloatTensor(get_sinusoid_encoding_table(self.config.n_dec_seq +1, self.config.d_hidn))\n",
    "            self.pos_embs = nn.Embedding.from_pretrained(sinusoid_table,freeze=True)\n",
    "\n",
    "            self.layers = nn.ModuleList([DecoderLayer(self.config) for _ in range(self.config.n_layer)])\n",
    "      \n",
    "      def forward(self, dec_inputs):\n",
    "            positions = torch.arange(dec_inputs.size(1),device = dec_inputs.device, dtype = dec_inputs.dtype).expand(dec_inputs.size(0),dec_inputs.size(1)).contiguous() + 1\n",
    "            pos_mask = positions.eq(self.config.i_pad)\n",
    "            positions.masked_fill_(pos_mask, 0)\n",
    "\n",
    "            dec_outputs = self.dec_embs(dec_inputs) + self.pos_embs(positions) \n",
    "\n",
    "            dec_attn_pad_mask = get_attn_pad_mask(dec_inputs, dec_inputs, self.config.i_pad)\n",
    "            dec_attn_decoder_mask = get_attn_decoder_mask(dec_inputs)\n",
    "\n",
    "            dec_self_attn_mask = torch.gt((dec_attn_pad_mask + dec_attn_decoder_mask), 0)\n",
    "\n",
    "            self_attn_probs = []\n",
    "\n",
    "            for layer in self.layers:\n",
    "                  dec_outputs, self_attn_prob = layer(dec_outputs, dec_self_attn_mask)\n",
    "                  self_attn_probs.append(self_attn_prob)\n",
    "            return dec_outputs, self_attn_probs"
   ]
  },
  {
   "cell_type": "code",
   "execution_count": 93,
   "metadata": {},
   "outputs": [],
   "source": [
    "class GPT(nn.Module):\n",
    "      def __init__(self, config):\n",
    "            super().__init__()\n",
    "            self.config = config\n",
    "\n",
    "            self.decoder = Decoder(self.config)\n",
    "\n",
    "      def forward(self, dec_inputs):\n",
    "            dec_outputs, dec_self_attn_probs = self.decoder(dec_inputs)\n",
    "\n",
    "            return dec_outputs, dec_self_attn_probs\n",
    "\n",
    "      def save(self, epoch, loss, path):\n",
    "            torch.save({\n",
    "                  \"epoch\" : epoch,\n",
    "                  \"loss\" : loss,\n",
    "                  \"state_dict\" : self.state_dict()\n",
    "            }, path)\n",
    "      \n",
    "      def load(self, path):\n",
    "            save = torch.load(path)\n",
    "            self.load_state_dict(save[\"state_dict\"])\n",
    "\n",
    "            return save[\"epoch\"], save[\"loss\"]\n"
   ]
  },
  {
   "cell_type": "code",
   "execution_count": 94,
   "metadata": {},
   "outputs": [],
   "source": [
    "class GPTPretrain(nn.Module):\n",
    "      def __init__(self, config):\n",
    "            super().__init__()\n",
    "            self.config = config\n",
    "\n",
    "            self.gpt = GPT(self.config)\n",
    "\n",
    "            self.projection_lm = nn.Linear(self.config.d_hidn, self.config.n_dec_vocab, bias = False)\n",
    "            self.projection_lm.weight = self.gpt.decoder.dec_embs.weight\n",
    "\n",
    "      def forward(self, dec_inputs):\n",
    "            dec_outputs, dec_self_attn_probs = self.gpt(dec_inputs)\n",
    "\n",
    "            logits_lm = self.projection_lm(dec_outputs)\n",
    "\n",
    "            return logits_lm[:, :-1, :].contiguous(), dec_self_attn_probs"
   ]
  },
  {
   "cell_type": "code",
   "execution_count": 95,
   "metadata": {},
   "outputs": [],
   "source": [
    "def create_pretrain_instances(doc, n_seq):\n",
    "      max_seq = n_seq - 2\n",
    "      tgt_seq = max_seq\n",
    "\n",
    "      instances = []\n",
    "      current_chunk = []\n",
    "      current_length = 0\n",
    "      for i in range(len(doc)):\n",
    "            current_chunk.append(doc[i])\n",
    "            current_length += len(doc[i])\n",
    "            if i == len(doc) - 1 or current_length >= tgt_seq:\n",
    "                  if 0 < len(current_chunk):\n",
    "                        tokens = []\n",
    "                        for chunk in current_chunk: tokens.extend(chunk)\n",
    "                        tokens = tokens[:tgt_seq]\n",
    "                        if 1 < len(tokens):\n",
    "                              instance = {\n",
    "                                    \"tokens\": [\"[BOS]\"] + tokens + [\"[EOS]\"],\n",
    "                              }\n",
    "                              instances.append(instance)\n",
    "                  current_chunk = []\n",
    "                  current_length = 0\n",
    "      return instances"
   ]
  },
  {
   "cell_type": "code",
   "execution_count": 96,
   "metadata": {},
   "outputs": [],
   "source": [
    "def make_pretrain_data(vocab, in_file, out_file, n_seq):\n",
    "      line_cnt = 0\n",
    "      with open(in_file, \"r\") as in_f:\n",
    "            for line in in_f:\n",
    "                  line_cnt += 1\n",
    "      \n",
    "      docs = []\n",
    "\n",
    "      with open(in_file, \"r\") as f:\n",
    "            doc = []\n",
    "            with tqdm(total= line_cnt, desc= f\"Loading\") as pbar:\n",
    "                  for i, line in enumerate(f):\n",
    "                        line = line.strip()\n",
    "                        if line == \"\":\n",
    "                              if 0 < len(doc):\n",
    "                                    docs.append(doc)\n",
    "                                    doc = []\n",
    "                        else:\n",
    "                              pieces = vocab.EncodeAsPieces(line)\n",
    "                              if 0 < len(pieces):\n",
    "                                    doc.append(pieces)\n",
    "                        pbar.update(1)\n",
    "            \n",
    "            if doc:\n",
    "                  docs.append(doc)\n",
    "      \n",
    "      with open(out_file, \"w\") as out_f:\n",
    "            with tqdm(total=len(docs), desc = f\"Making\") as pbar:\n",
    "                  for i, doc in enumerate(docs):\n",
    "                        instances = create_pretrain_instances(doc, n_seq)\n",
    "                        for instance in instances:\n",
    "                              out_f.write(json.dumps(instance))\n",
    "                              out_f.write(\"\\n\")\n",
    "                        pbar.update(1)"
   ]
  },
  {
   "cell_type": "code",
   "execution_count": 97,
   "metadata": {},
   "outputs": [],
   "source": [
    "class PretrainDataSet(torch.utils.data.Dataset):\n",
    "      def __init__(self, vocab, infile):\n",
    "            self.vocab = vocab\n",
    "            self.sentences = []\n",
    "\n",
    "            line_cnt = 0\n",
    "            with open(infile, \"r\") as f:\n",
    "                  for line in f:\n",
    "                        line_cnt += 1\n",
    "\n",
    "            with open(infile, \"r\") as f:\n",
    "                  for i, line in enumerate(tqdm(f, total=line_cnt, desc=\"Make Pretrain Dataset\", unit=\" lines\")):\n",
    "                      instance = json.loads(line)\n",
    "                  self.sentences.append([vocab.piece_to_id(p) for p in instance[\"tokens\"]])\n",
    "    \n",
    "      def __len__(self):\n",
    "            return len(self.sentences)\n",
    "    \n",
    "      def __getitem__(self, item):\n",
    "            return (torch.tensor(self.sentences[item]), torch.tensor(item))"
   ]
  },
  {
   "cell_type": "code",
   "execution_count": 98,
   "metadata": {},
   "outputs": [],
   "source": [
    "class PretrainDataSet(torch.utils.data.Dataset):\n",
    "    def __init__(self, vocab, infile):\n",
    "        self.vocab = vocab\n",
    "        self.sentences = []\n",
    "\n",
    "        line_cnt = 0\n",
    "        with open(infile, \"r\") as f:\n",
    "            for line in f:\n",
    "                line_cnt += 1\n",
    "\n",
    "        with open(infile, \"r\") as f:\n",
    "            for i, line in enumerate(tqdm(f, total=line_cnt, desc=\"Make Pretrain Dataset\", unit=\" lines\")):\n",
    "                instance = json.loads(line)\n",
    "                self.sentences.append([vocab.piece_to_id(p) for p in instance[\"tokens\"]])\n",
    "    \n",
    "    def __len__(self):\n",
    "        return len(self.sentences)\n",
    "    \n",
    "    def __getitem__(self, item):\n",
    "        return (torch.tensor(self.sentences[item]), torch.tensor(item))"
   ]
  },
  {
   "cell_type": "code",
   "execution_count": 99,
   "metadata": {},
   "outputs": [],
   "source": [
    "def pretrin_collate_fn(inputs):\n",
    "    dec_inputs, item = list(zip(*inputs))\n",
    "\n",
    "    dec_inputs = torch.nn.utils.rnn.pad_sequence(dec_inputs, batch_first=True, padding_value=0)\n",
    "\n",
    "    batch = [\n",
    "        dec_inputs,\n",
    "        torch.stack(item, dim=0),\n",
    "    ]\n",
    "    return batch"
   ]
  },
  {
   "cell_type": "code",
   "execution_count": 100,
   "metadata": {},
   "outputs": [],
   "source": [
    "def train_epoch(config, epoch, model, criterion_lm, optimizer, train_loader):\n",
    "    losses = []\n",
    "    model.train()\n",
    "\n",
    "    with tqdm(total = len(train_epoch), desc = f\"Train({epoch})\") as pbar:\n",
    "        for i, value in enumerate(train_loader):\n",
    "            dec_inputs, _ = map(lambda v : v.to(config.device), value)\n",
    "            labels_lm = dec_inputs[:, 1:].contiguous()\n",
    "            \n",
    "            optimizer.zero_grad()\n",
    "            outputs = model(dec_inputs)\n",
    "            logits_lm = outputs[0]\n",
    "\n",
    "            loss_lm = criterion_lm(logits_lm.view(-1, logits_lm.size(2)))\n",
    "            loss = loss_lm\n",
    "\n",
    "            loss_val = loss_lm.item()\n",
    "            losses.append(loss_val)\n",
    "\n",
    "            loss.backward()\n",
    "            optimizer.step()\n",
    "\n",
    "            pbar.update(1)\n",
    "            pbar.set_postfix_str(f\"Loss: {loss_val:.3f}({np.mean(losses):.3f})\")\n",
    "    return np.mean(losses)"
   ]
  }
 ],
 "metadata": {
  "interpreter": {
   "hash": "5d1aa92d2b669f5ff4ea8794858f459d16fcce2139883dca779c71d99d2e4135"
  },
  "kernelspec": {
   "display_name": "Python 3.8.8 ('base': conda)",
   "language": "python",
   "name": "python3"
  },
  "language_info": {
   "codemirror_mode": {
    "name": "ipython",
    "version": 3
   },
   "file_extension": ".py",
   "mimetype": "text/x-python",
   "name": "python",
   "nbconvert_exporter": "python",
   "pygments_lexer": "ipython3",
   "version": "3.8.8"
  },
  "orig_nbformat": 4
 },
 "nbformat": 4,
 "nbformat_minor": 2
}
