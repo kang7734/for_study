{
 "cells": [
  {
   "cell_type": "code",
   "execution_count": 3,
   "metadata": {},
   "outputs": [],
   "source": [
    "import torch\n",
    "from torch import nn as nn\n",
    "import copy"
   ]
  },
  {
   "cell_type": "code",
   "execution_count": 27,
   "metadata": {},
   "outputs": [],
   "source": [
    "class Transformer(nn.Module):\n",
    "    def __init__(self, src_embed,trg_embed, encoder, decoder, fc_layer):\n",
    "        super(Transformer, self).__init__()\n",
    "        self.src_embed = src_embed\n",
    "        self.trg_embed = trg_embed\n",
    "        self.encoder = encoder\n",
    "        self.decoder = decoder\n",
    "        self.fc_layer = fc_layer\n",
    "    \n",
    "    def forward(self, src, trg, src_mask, trg_mask):\n",
    "        encoder_output = self.encoder(self.src_embed(src), src_mask)\n",
    "        out = self.decoder(self.trg_embed(trg), trg_mask, encoder_output, src_mask)\n",
    "        out = self.fc_layer(out)\n",
    "        out = F.log_softmax(out, dim = -1)\n",
    "\n",
    "        return out\n"
   ]
  },
  {
   "cell_type": "code",
   "execution_count": 5,
   "metadata": {},
   "outputs": [],
   "source": [
    "class Encoder(nn.Module):\n",
    "    def __init__(self, encoder_layer, n_layer):\n",
    "        super(Encoder,self).__init__()\n",
    "        self.layers = []\n",
    "        for i in range(n_layer):\n",
    "            self.layer.append(copy.deepcopy(encoder_layer))\n",
    "        \n",
    "    def forward(self, x, mask):\n",
    "        out = x\n",
    "        for layer in self.layers:\n",
    "            out = layer(out, mask)\n",
    "        return out"
   ]
  },
  {
   "cell_type": "code",
   "execution_count": 13,
   "metadata": {},
   "outputs": [],
   "source": [
    "class EncoderLayer(nn.Module):\n",
    "\n",
    "    def __init__(self, multi_head_attention_layer, position_wise_feed_forward_layer, norm_layer):\n",
    "        super(EncoderLayer, self).__init__()\n",
    "        self.multi_head_attention_layer = multi_head_attention_layer\n",
    "        self.position_wise_feed_forward_layer = position_wise_feed_forward_layer\n",
    "        self.residual_connection_layers = [ResidualConnectionLayer(copy.deepcopy(norm_layer)) for i in range(2)]\n",
    "    \n",
    "    def forward(self, x, mask):\n",
    "        out = self.residual_connection_layers[0](x, lambda x: self.multi_head_attention_layer(query = x, key = x, value = x, mask =mask))\n",
    "        out = self.residual_connection_layers[1](x, lambda x : self.position_wise_feed_forward_layer(out))\n",
    "\n",
    "        return out\n"
   ]
  },
  {
   "cell_type": "code",
   "execution_count": 7,
   "metadata": {},
   "outputs": [],
   "source": [
    "import numpy as np\n",
    "from torch.nn import functional as F\n",
    "import math\n",
    "import pandas as pd"
   ]
  },
  {
   "cell_type": "code",
   "execution_count": 8,
   "metadata": {},
   "outputs": [],
   "source": [
    "def calculate_attention(self, query, key, value, mask):\n",
    "    d_k = key.size(-1)\n",
    "    attention_score = torch.matmul(query, key.transpose(-2,-1))\n",
    "    attention_score = attention_score / math.sqrt(d_k)\n",
    "    if mask is not None:\n",
    "        attention_score = attention_score.masked_fill(mask==0, -1e9)\n",
    "    attention_prob = F.softmax(attention_score, dim=1)\n",
    "    out = torch.matmul(attention_prob, value)\n",
    "    return out"
   ]
  },
  {
   "cell_type": "code",
   "execution_count": 9,
   "metadata": {},
   "outputs": [],
   "source": [
    "class MultiHeadAttentionLayer(nn.Module):\n",
    "    def __init__(self, d_model, h, qkv_fc_layer, fc_layer):\n",
    "        super(MultiHeadAttentionLayer, self).__init__()\n",
    "        self.d_model = d_model\n",
    "        self.h = h\n",
    "        self.query_fc_layer = copy.deepcopy(qkv_fc_layer)\n",
    "        self.key_fc_layer = copy.deepcopy(qkv_fc_layer)\n",
    "        self.value_fc_layer = copy.deepcopy(qkv_fc_layer)\n",
    "        self.fc_layer = fc_layer\n",
    "\n",
    "    def forward(self, query, key, value, mask=None):\n",
    "        n_batch = query.shape[0]\n",
    "\n",
    "        def transform(x, fc_layer):\n",
    "            out = fc_layer(x)\n",
    "            out = out.view(n_batch, -1, self.h, self.d_model//self.h)\n",
    "            out = out.transpose(1,2)\n",
    "            return out\n",
    "    \n",
    "        query = transform(query, self.query_fc_layer)\n",
    "        key = transform(key, self.key_fc_layer)\n",
    "        value = transform(value, self.value_fc_layer)\n",
    "\n",
    "        if mask is not None:\n",
    "            mask = mask.unsqueeze(1)\n",
    "\n",
    "        out = self.calculate_attention(query, key, value, mask)\n",
    "        out = out.transpose(1,2)\n",
    "        out = out.contigous().view(n_batch, -1, self.d_model)\n",
    "        out = self.fc_layer(out)\n",
    "        return out\n",
    "            "
   ]
  },
  {
   "cell_type": "code",
   "execution_count": 10,
   "metadata": {},
   "outputs": [],
   "source": [
    "class MultiHeadAttentionLayer(nn.Module):\n",
    "    def __init__(self, d_model, h, qkv_fc_layer, fc_layer):\n",
    "        super(MultiHeadAttentionLayer, self).__init__()\n",
    "        self.d_model = d_model\n",
    "        self.h = h\n",
    "        self.query_fc_layer = copy.deepcopy(qkv_fc_layer)\n",
    "        self.key_fc_layer = copy.deepcopy(qkv_fc_layer)\n",
    "        self.value_fc_layer = copy.deepcopy(qkv_fc_layer)\n",
    "        self.fc_layer = fc_layer\n",
    "\n",
    "    def forward(self, query, key, value, mask=None):\n",
    "        n_batch = query.shape[0]\n",
    "\n",
    "        def transform(x, fc_layer):\n",
    "            out = fc_layer(x)\n",
    "            out = out.view(n_batch, -1, self.h, self.d_model//self.h)\n",
    "            out = out.transpose(1,2)\n",
    "            return out\n",
    "\n",
    "        query = transform(query, self.query_fc_layer)\n",
    "        key = transform(key, self.key_fc_layer)\n",
    "        value = transform(value, self.value_fc_layer)\n",
    "\n",
    "        if mask is not None:\n",
    "            mask = mask.unsqueeze(1)\n",
    "        \n",
    "        out = self.calculate_attention(query, key, value, mask)\n",
    "        out = out.transpose(1,2)\n",
    "        out = out.contiguous().view(n_batch, -1, self.d_model)\n",
    "        out = self.fc_layer(out)\n",
    "        return out\n",
    "\n"
   ]
  },
  {
   "cell_type": "code",
   "execution_count": 11,
   "metadata": {},
   "outputs": [],
   "source": [
    "class PositionWiseFeedForwadLayer(nn.Module):\n",
    "    def __init__(self, first_fc_layer, second_fc_layer):\n",
    "        super(PositionWiseFeedForwadLayer, self).__init__()\n",
    "        self.first_fc_layer = first_fc_layer\n",
    "        self.second_fc_layer = second_fc_layer\n",
    "\n",
    "    def forward(self, x):\n",
    "        out = self.first_fc_layer(x)\n",
    "        out = F.relu(out)\n",
    "        out = self.second_fc_layer(out)\n",
    "        out = F.relu(out)\n",
    "\n",
    "        return out"
   ]
  },
  {
   "cell_type": "code",
   "execution_count": 12,
   "metadata": {},
   "outputs": [],
   "source": [
    "class ResidualConnectionLayer(nn.Module):\n",
    "    def __init__(self, norm_layer):\n",
    "        super(ResidualConnectionLayer, self).__init__()\n",
    "        self.norm_layer = norm_layer\n",
    "    \n",
    "    def forward(self, x, sub_layer):\n",
    "        out = sub_layer(x) + x\n",
    "        out = self.norm_layer(out)\n",
    "        return out"
   ]
  },
  {
   "cell_type": "code",
   "execution_count": 15,
   "metadata": {},
   "outputs": [],
   "source": [
    "from torch.autograd import Variable"
   ]
  },
  {
   "cell_type": "code",
   "execution_count": 16,
   "metadata": {},
   "outputs": [],
   "source": [
    "def subsequent_mask(size):\n",
    "    atten_shape = (1, size, size)\n",
    "    mask = np.triu(np.ones(atten_shape), k=1).astype('unit8')\n",
    "    return torch.from_numpy(mask) == 0\n",
    "\n",
    "def make_std_mask(tgt, pad):\n",
    "    tgt_mask = (tgt != pad)\n",
    "    tgt_mask = tgt_mask.unsqueeze(-2)\n",
    "    tgt_mask = tgt_mask & Variable(subsequent_mask(tgt.size(-1)).type_as(tgt_mask.data))\n",
    "    return tgt_mask"
   ]
  },
  {
   "cell_type": "code",
   "execution_count": 19,
   "metadata": {},
   "outputs": [],
   "source": [
    "class Decoder(nn.Module):\n",
    "    def __init__(self, sub_layer, n_layer):\n",
    "        super(Decoder,self).__init__()\n",
    "        self.layers = []\n",
    "        for i in range(n_layer):\n",
    "            self.layers.append(copy.deepcopy(sub_layer))\n",
    "    \n",
    "    def forward(self, x, mask, encoder_output, encoder_mask):\n",
    "        output = x\n",
    "        for layer in self.layers:\n",
    "            out = layer(out, mask, encoder_output, encoder_mask)\n",
    "        \n",
    "        return out"
   ]
  },
  {
   "cell_type": "code",
   "execution_count": 20,
   "metadata": {},
   "outputs": [],
   "source": [
    "class DecoderLayer(nn.Module):\n",
    "    def __init__(self, masked_multi_head_attention_layer, multi_head_attention_layer, position_wise_feed_forward_layer, norm_layer):\n",
    "        super(DecoderLayer, self).__init__()\n",
    "        self.masked_multi_head_attention_layer = ResidualConnectionLayer(masked_multi_head_attention_layer, copy.deepcopy(norm_layer))\n",
    "        self.multi_head_attention_layer = ResidualConnectionLayer(multi_head_attention_layer, copy.deepcopy(norm_layer))\n",
    "        self.position_wise_feed_forward_layer = ResidualConnectionLayer(position_wise_feed_forward_layer, copy.deepcopy(norm_layer))\n",
    "\n",
    "    def forward(self, x, mask, encoder_output, encoder_mask):\n",
    "        out = self.masked_multi_head_attention_layer(query = x, key = x, value = x, mask = mask)\n",
    "        out = self.multi_head_attention_layer(query = out, key = encoder_output, value = encoder_output, mask = encoder_mask)\n",
    "        out = self.position_wise_feed_forward_layer(x = out)\n",
    "        return out"
   ]
  },
  {
   "cell_type": "code",
   "execution_count": 22,
   "metadata": {},
   "outputs": [],
   "source": [
    "class TransformerEmbedding(nn.Module):\n",
    "    def __init__(self, embedding, positional_embedding):\n",
    "        super(TransformerEmbedding).__init__()\n",
    "        self.embedding = nn.Sequential(embedding, positional_embedding)\n",
    "    \n",
    "    def forward(self, x):\n",
    "        out = self.embedding(x)\n",
    "        return out"
   ]
  },
  {
   "cell_type": "code",
   "execution_count": 23,
   "metadata": {},
   "outputs": [],
   "source": [
    "class Embedding(nn.Module):\n",
    "    def __init__(self, d_embed, vocab):\n",
    "        super(Embedding, self).__init__()\n",
    "        self.embedding = nn.Embedding(len(vocab), d_embed)\n",
    "        self.vocab = vocab\n",
    "        self.d_embed = d_embed\n",
    "    \n",
    "    def forward(self, x):\n",
    "        out = self.embedding(x) * math.sqrt(self.d_embed)\n",
    "\n",
    "        return out"
   ]
  },
  {
   "cell_type": "code",
   "execution_count": 24,
   "metadata": {},
   "outputs": [],
   "source": [
    "class PositionalEmbedding(nn.Module):\n",
    "    def __init__(self, d_embed, max_seq_len = 5000):\n",
    "        super(PositionalEmbedding,self).__init__()\n",
    "        encoding = torch.zeros(max_seq_len, d_embed)\n",
    "        position = torch.arange(0, max_seq_len).unsqueeze(1)\n",
    "        div_term = torch.exp(torch.arange(0, d_embed, 2)* - (math.log(10000.0) / d_embed))\n",
    "        encoding[:, 0::2] = torch.sin(position * div_term)\n",
    "        encoding[:, 1::2] = torch.cos(position * div_term)\n",
    "        self.encoding = encoding\n",
    "    \n",
    "    def forward(self, x):\n",
    "        out = x + Variable(self.encoding[:, :x.size(1)], requires_grad =False)\n",
    "        out = self.dropout(out)\n",
    "        return out"
   ]
  },
  {
   "cell_type": "code",
   "execution_count": 29,
   "metadata": {},
   "outputs": [],
   "source": [
    "def make_model(src_vocab, trg_vocab, d_embed = 512, n_layer = 6, d_model = 512, h = 8, d_ff = 2048):\n",
    "    cp = lambda x: copy.deepcopy(x)\n",
    "    \n",
    "    multi_head_attention_layer = MultiHeadAttentionLayer(d_model = d_model, h = h, qkv_fc_layer= nn.Linaer(d_embed, d_model), fc_layer = nn.Linear(d_model, d_embed))\n",
    "    \n",
    "    position_wise_feed_forward_layer = PositionWiseFeedForwadLayer(first_fc_layer= nn.Linear(d_embed, d_ff), second_fc_layer= nn.Linear(d_ff, d_embed))\n",
    "\n",
    "    norm_layer = nn.LayerNorm(d_embed, eps = 1e-6)\n",
    "\n",
    "    model = Transformer(src_embed = TransformerEmbedding(embedding= Embedding(d_embed=d_embed, vocab=src_vocab), positional_embedding = PositionalEmbedding(d_embed=d_embed)),\n",
    "    trg_embed= TransformerEmbedding(embedding= Embedding(d_embed=d_embed, vocab=trg_vocab),positional_embedding=PositionalEmbedding(d_embed=d_embed)),\n",
    "    encoder= Encoder(encoder_layer = EncoderLayer(multi_head_attention_layer= cp(multi_head_attention_layer), position_wise_feed_forward_layer=cp(position_wise_feed_forward_layer), norm_layer=cp(norm_layer))),\n",
    "    decoder= Decoder(sub_layer= DecoderLayer(masked_multi_head_attention_layer= cp(multi_head_attention_layer), multi_head_attention_layer=cp(multi_head_attention_layer), position_wise_feed_forward_layer=cp(position_wise_feed_forward_layer),norm_layer=cp(norm_layer))),\n",
    "    n_layer = n_layer,\n",
    "    fc_layer= nn.Linear(d_model, len(trg_vocab)))\n",
    "    return model\n"
   ]
  },
  {
   "cell_type": "code",
   "execution_count": null,
   "metadata": {},
   "outputs": [],
   "source": []
  }
 ],
 "metadata": {
  "interpreter": {
   "hash": "5d1aa92d2b669f5ff4ea8794858f459d16fcce2139883dca779c71d99d2e4135"
  },
  "kernelspec": {
   "display_name": "Python 3.8.8 ('base': conda)",
   "language": "python",
   "name": "python3"
  },
  "language_info": {
   "codemirror_mode": {
    "name": "ipython",
    "version": 3
   },
   "file_extension": ".py",
   "mimetype": "text/x-python",
   "name": "python",
   "nbconvert_exporter": "python",
   "pygments_lexer": "ipython3",
   "version": "3.8.8"
  },
  "orig_nbformat": 4
 },
 "nbformat": 4,
 "nbformat_minor": 2
}
