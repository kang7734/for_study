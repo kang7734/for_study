{
 "cells": [
  {
   "cell_type": "code",
   "execution_count": 3,
   "metadata": {},
   "outputs": [],
   "source": [
    "import torch\n",
    "from torch import nn as nn\n",
    "import copy"
   ]
  },
  {
   "cell_type": "code",
   "execution_count": 4,
   "metadata": {},
   "outputs": [],
   "source": [
    "class Transformer(nn.Module):\n",
    "    def __init__(self, encoder, decoder):\n",
    "        super(Transformer, self).__init__()\n",
    "        self.encoder = encoder\n",
    "        self.decoder = decoder\n",
    "    \n",
    "    def forward(self, x, z, mask):\n",
    "        c = self.encoder(x, mask)\n",
    "        y = self.decoder(z, c)\n",
    "        return y\n"
   ]
  },
  {
   "cell_type": "code",
   "execution_count": 5,
   "metadata": {},
   "outputs": [],
   "source": [
    "class Encoder(nn.Module):\n",
    "    def __init__(self, encoder_layer, n_layer):\n",
    "        super(Encoder,self).__init__()\n",
    "        self.layers = []\n",
    "        for i in range(n_layer):\n",
    "            self.layer.append(copy.deepcopy(encoder_layer))\n",
    "        \n",
    "    def forward(self, x, mask):\n",
    "        out = x\n",
    "        for layer in self.layers:\n",
    "            out = layer(out, mask)\n",
    "        return out"
   ]
  },
  {
   "cell_type": "code",
   "execution_count": 13,
   "metadata": {},
   "outputs": [],
   "source": [
    "class EncoderLayer(nn.Module):\n",
    "\n",
    "    def __init__(self, multi_head_attention_layer, position_wise_feed_forward_layer, norm_layer):\n",
    "        super(EncoderLayer, self).__init__()\n",
    "        self.multi_head_attention_layer = multi_head_attention_layer\n",
    "        self.position_wise_feed_forward_layer = position_wise_feed_forward_layer\n",
    "        self.residual_connection_layers = [ResidualConnectionLayer(copy.deepcopy(norm_layer)) for i in range(2)]\n",
    "    \n",
    "    def forward(self, x, mask):\n",
    "        out = self.residual_connection_layers[0](x, lambda x: self.multi_head_attention_layer(query = x, key = x, value = x, mask =mask))\n",
    "        out = self.residual_connection_layers[1](x, lambda x : self.position_wise_feed_forward_layer(out))\n",
    "\n",
    "        return out\n"
   ]
  },
  {
   "cell_type": "code",
   "execution_count": 7,
   "metadata": {},
   "outputs": [],
   "source": [
    "import numpy as np\n",
    "from torch.nn import functional as F\n",
    "import math\n",
    "import pandas as pd"
   ]
  },
  {
   "cell_type": "code",
   "execution_count": 8,
   "metadata": {},
   "outputs": [],
   "source": [
    "def calculate_attention(self, query, key, value, mask):\n",
    "    d_k = key.size(-1)\n",
    "    attention_score = torch.matmul(query, key.transpose(-2,-1))\n",
    "    attention_score = attention_score / math.sqrt(d_k)\n",
    "    if mask is not None:\n",
    "        attention_score = attention_score.masked_fill(mask==0, -1e9)\n",
    "    attention_prob = F.softmax(attention_score, dim=1)\n",
    "    out = torch.matmul(attention_prob, value)\n",
    "    return out"
   ]
  },
  {
   "cell_type": "code",
   "execution_count": 9,
   "metadata": {},
   "outputs": [],
   "source": [
    "class MultiHeadAttentionLayer(nn.Module):\n",
    "    def __init__(self, d_model, h, qkv_fc_layer, fc_layer):\n",
    "        super(MultiHeadAttentionLayer, self).__init__()\n",
    "        self.d_model = d_model\n",
    "        self.h = h\n",
    "        self.query_fc_layer = copy.deepcopy(qkv_fc_layer)\n",
    "        self.key_fc_layer = copy.deepcopy(qkv_fc_layer)\n",
    "        self.value_fc_layer = copy.deepcopy(qkv_fc_layer)\n",
    "        self.fc_layer = fc_layer\n",
    "\n",
    "    def forward(self, query, key, value, mask=None):\n",
    "        n_batch = query.shape[0]\n",
    "\n",
    "        def transform(x, fc_layer):\n",
    "            out = fc_layer(x)\n",
    "            out = out.view(n_batch, -1, self.h, self.d_model//self.h)\n",
    "            out = out.transpose(1,2)\n",
    "            return out\n",
    "    \n",
    "        query = transform(query, self.query_fc_layer)\n",
    "        key = transform(key, self.key_fc_layer)\n",
    "        value = transform(value, self.value_fc_layer)\n",
    "\n",
    "        if mask is not None:\n",
    "            mask = mask.unsqueeze(1)\n",
    "\n",
    "        out = self.calculate_attention(query, key, value, mask)\n",
    "        out = out.transpose(1,2)\n",
    "        out = out.contigous().view(n_batch, -1, self.d_model)\n",
    "        out = self.fc_layer(out)\n",
    "        return out\n",
    "            "
   ]
  },
  {
   "cell_type": "code",
   "execution_count": 10,
   "metadata": {},
   "outputs": [],
   "source": [
    "class MultiHeadAttentionLayer(nn.Module):\n",
    "    def __init__(self, d_model, h, qkv_fc_layer, fc_layer):\n",
    "        super(MultiHeadAttentionLayer, self).__init__()\n",
    "        self.d_model = d_model\n",
    "        self.h = h\n",
    "        self.query_fc_layer = copy.deepcopy(qkv_fc_layer)\n",
    "        self.key_fc_layer = copy.deepcopy(qkv_fc_layer)\n",
    "        self.value_fc_layer = copy.deepcopy(qkv_fc_layer)\n",
    "        self.fc_layer = fc_layer\n",
    "\n",
    "    def forward(self, query, key, value, mask=None):\n",
    "        n_batch = query.shape[0]\n",
    "\n",
    "        def transform(x, fc_layer):\n",
    "            out = fc_layer(x)\n",
    "            out = out.view(n_batch, -1, self.h, self.d_model//self.h)\n",
    "            out = out.transpose(1,2)\n",
    "            return out\n",
    "\n",
    "        query = transform(query, self.query_fc_layer)\n",
    "        key = transform(key, self.key_fc_layer)\n",
    "        value = transform(value, self.value_fc_layer)\n",
    "\n",
    "        if mask is not None:\n",
    "            mask = mask.unsqueeze(1)\n",
    "        \n",
    "        out = self.calculate_attention(query, key, value, mask)\n",
    "        out = out.transpose(1,2)\n",
    "        out = out.contiguous().view(n_batch, -1, self.d_model)\n",
    "        out = self.fc_layer(out)\n",
    "        return out\n",
    "\n"
   ]
  },
  {
   "cell_type": "code",
   "execution_count": 11,
   "metadata": {},
   "outputs": [],
   "source": [
    "class PositionWiseFeedForwadLayer(nn.Module):\n",
    "    def __init__(self, first_fc_layer, second_fc_layer):\n",
    "        super(PositionWiseFeedForwadLayer, self).__init__()\n",
    "        self.first_fc_layer = first_fc_layer\n",
    "        self.second_fc_layer = second_fc_layer\n",
    "\n",
    "    def forward(self, x):\n",
    "        out = self.first_fc_layer(x)\n",
    "        out = F.relu(out)\n",
    "        out = self.second_fc_layer(out)\n",
    "        out = F.relu(out)\n",
    "\n",
    "        return out"
   ]
  },
  {
   "cell_type": "code",
   "execution_count": 12,
   "metadata": {},
   "outputs": [],
   "source": [
    "class ResidualConnectionLayer(nn.Module):\n",
    "    def __init__(self, norm_layer):\n",
    "        super(ResidualConnectionLayer, self).__init__()\n",
    "        self.norm_layer = norm_layer\n",
    "    \n",
    "    def forward(self, x, sub_layer):\n",
    "        out = sub_layer(x) + x\n",
    "        out = self.norm_layer(out)\n",
    "        return out"
   ]
  },
  {
   "cell_type": "code",
   "execution_count": 15,
   "metadata": {},
   "outputs": [],
   "source": [
    "from torch.autograd import Variable"
   ]
  },
  {
   "cell_type": "code",
   "execution_count": 16,
   "metadata": {},
   "outputs": [],
   "source": [
    "def subsequent_mask(size):\n",
    "    atten_shape = (1, size, size)\n",
    "    mask = np.triu(np.ones(atten_shape), k=1).astype('unit8')\n",
    "    return torch.from_numpy(mask) == 0\n",
    "\n",
    "def make_std_mask(tgt, pad):\n",
    "    tgt_mask = (tgt != pad)\n",
    "    tgt_mask = tgt_mask.unsqueeze(-2)\n",
    "    tgt_mask = tgt_mask & Variable(subsequent_mask(tgt.size(-1)).type_as(tgt_mask.data))\n",
    "    return tgt_mask"
   ]
  },
  {
   "cell_type": "code",
   "execution_count": null,
   "metadata": {},
   "outputs": [],
   "source": []
  }
 ],
 "metadata": {
  "interpreter": {
   "hash": "5d1aa92d2b669f5ff4ea8794858f459d16fcce2139883dca779c71d99d2e4135"
  },
  "kernelspec": {
   "display_name": "Python 3.8.8 ('base': conda)",
   "language": "python",
   "name": "python3"
  },
  "language_info": {
   "codemirror_mode": {
    "name": "ipython",
    "version": 3
   },
   "file_extension": ".py",
   "mimetype": "text/x-python",
   "name": "python",
   "nbconvert_exporter": "python",
   "pygments_lexer": "ipython3",
   "version": "3.8.8"
  },
  "orig_nbformat": 4
 },
 "nbformat": 4,
 "nbformat_minor": 2
}
